{
  "nbformat": 4,
  "nbformat_minor": 0,
  "metadata": {
    "colab": {
      "provenance": []
    },
    "kernelspec": {
      "name": "python3",
      "display_name": "Python 3"
    },
    "language_info": {
      "name": "python"
    }
  },
  "cells": [
    {
      "cell_type": "code",
      "source": [
        "# Estoque inicial\n",
        "estoque_atual = {\n",
        "    \"canetas\": 150,\n",
        "    \"cadernos\": 95,\n",
        "    \"borrachas\": 60,\n",
        "    \"lápis\": 80,\n",
        "    \"marcadores\": 40,\n",
        "    \"papel sulfite\": 70,\n",
        "    \"grampeadores\": 200,\n",
        "    \"apontadores\": 55,\n",
        "}\n",
        "\n",
        "# Lista de movimentações do dia\n",
        "movimentacoes_dia = [\n",
        "    (\"canetas\", \"saída\", 25),\n",
        "    (\"cadernos\", \"entrada\", 10),\n",
        "    (\"borrachas\", \"saída\", 50),\n",
        "    (\"lápis\", \"saída\", 30),\n",
        "    (\"marcadores\", \"entrada\", 20),\n",
        "    (\"papel sulfite\", \"saída\", 25),\n",
        "    (\"grampeadores\", \"saída\", 150),\n",
        "    (\"apontadores\", \"entrada\", 10),\n",
        "    (\"pastas\", \"entrada\", 40),\n",
        "    (\"réguas\", \"entrada\", 50),\n",
        "    (\"canetas\", \"saída\", 60),\n",
        "    (\"clips\", \"entrada\", 20),\n",
        "    (\"borrachas\", \"entrada\", 15),\n",
        "    (\"cadernos\", \"saída\", 15),\n",
        "    (\"lápis\", \"entrada\", 55),\n",
        "]\n",
        "\n",
        "for produto, tipo, quantidade in movimentacoes_dia:\n",
        "    if tipo == \"entrada\":\n",
        "        if produto in estoque_atual:\n",
        "            estoque_atual[produto] += quantidade\n",
        "        else:\n",
        "            estoque_atual[produto] = quantidade\n",
        "    elif tipo == \"saída\":\n",
        "        if produto in estoque_atual:\n",
        "            estoque_atual[produto] -= quantidade\n",
        "        else:\n",
        "            estoque_atual[produto] = -quantidade\n",
        "    else:\n",
        "        print(f\"Tipo de movimentação inválido para {produto}: {tipo}\")\n",
        "\n",
        "produtos_baixo_estoque = {p: q for p, q in estoque_atual.items() if q <= 50}\n",
        "\n",
        "print(\"=== Relatório Final de Estoque ===\")\n",
        "for produto, quantidade in sorted(estoque_atual.items()):\n",
        "    print(f\"{produto}: {quantidade} unidades\")\n",
        "\n",
        "print(\"\\n=== Produtos com Estoque em Nível Baixo (<= 50) ===\")\n",
        "if produtos_baixo_estoque:\n",
        "    for produto, quantidade in sorted(produtos_baixo_estoque.items()):\n",
        "        print(f\"{produto}: {quantidade} unidades\")\n",
        "else:\n",
        "    print(\"Nenhum produto com estoque baixo.\")"
      ],
      "metadata": {
        "colab": {
          "base_uri": "https://localhost:8080/"
        },
        "id": "Uuf7nIvIrfGK",
        "outputId": "749ec8c8-9e07-4e91-a556-4fd4e623eaaa"
      },
      "execution_count": 4,
      "outputs": [
        {
          "output_type": "stream",
          "name": "stdout",
          "text": [
            "=== Relatório Final de Estoque ===\n",
            "apontadores: 65 unidades\n",
            "borrachas: 25 unidades\n",
            "cadernos: 90 unidades\n",
            "canetas: 65 unidades\n",
            "clips: 20 unidades\n",
            "grampeadores: 50 unidades\n",
            "lápis: 105 unidades\n",
            "marcadores: 60 unidades\n",
            "papel sulfite: 45 unidades\n",
            "pastas: 40 unidades\n",
            "réguas: 50 unidades\n",
            "\n",
            "=== Produtos com Estoque em Nível Baixo (<= 50) ===\n",
            "borrachas: 25 unidades\n",
            "clips: 20 unidades\n",
            "grampeadores: 50 unidades\n",
            "papel sulfite: 45 unidades\n",
            "pastas: 40 unidades\n",
            "réguas: 50 unidades\n"
          ]
        }
      ]
    },
    {
      "cell_type": "code",
      "source": [],
      "metadata": {
        "id": "sC8rA7uxvd_Q"
      },
      "execution_count": null,
      "outputs": []
    }
  ]
}